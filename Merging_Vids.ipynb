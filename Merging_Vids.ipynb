{
 "cells": [
  {
   "cell_type": "code",
   "execution_count": 1,
   "metadata": {},
   "outputs": [
    {
     "name": "stdout",
     "output_type": "stream",
     "text": [
      "Moviepy - Building video Full_Time_Trajectory_for_Final_Videos_Copy\\thermal_shock\\merged_thermal_shock.mp4.\n",
      "Moviepy - Writing video Full_Time_Trajectory_for_Final_Videos_Copy\\thermal_shock\\merged_thermal_shock.mp4\n",
      "\n"
     ]
    },
    {
     "name": "stderr",
     "output_type": "stream",
     "text": [
      "                                                                \r"
     ]
    },
    {
     "name": "stdout",
     "output_type": "stream",
     "text": [
      "Moviepy - Done !\n",
      "Moviepy - video ready Full_Time_Trajectory_for_Final_Videos_Copy\\thermal_shock\\merged_thermal_shock.mp4\n"
     ]
    }
   ],
   "source": [
    "from moviepy.editor import concatenate_videoclips, VideoFileClip\n",
    "import os\n",
    "\n",
    "# specify your folder\n",
    "folder = 'Full_Time_Trajectory_for_Final_Videos_Copy\\\\thermal_shock'\n",
    "\n",
    "# get list of files in folder\n",
    "files = [f for f in os.listdir(folder) if os.path.isfile(os.path.join(folder, f))]\n",
    "\n",
    "# filter out non-video files\n",
    "video_files = [f for f in files if f.endswith(('.mp4', '.avi', '.mov', '.mkv'))]  # add more formats if needed\n",
    "\n",
    "# sort the videos by name (or modify to suit your needs)\n",
    "\n",
    "# load video files and concatenate\n",
    "clips = [VideoFileClip(os.path.join(folder, video_file)) for video_file in video_files]\n",
    "final_clip = concatenate_videoclips(clips)\n",
    "\n",
    "# write the result to a file\n",
    "final_clip.write_videofile(os.path.join(folder, 'merged_thermal_shock.mp4'), codec='libx264')\n"
   ]
  }
 ],
 "metadata": {
  "kernelspec": {
   "display_name": "ForGPU",
   "language": "python",
   "name": "python3"
  },
  "language_info": {
   "codemirror_mode": {
    "name": "ipython",
    "version": 3
   },
   "file_extension": ".py",
   "mimetype": "text/x-python",
   "name": "python",
   "nbconvert_exporter": "python",
   "pygments_lexer": "ipython3",
   "version": "3.9.16"
  },
  "orig_nbformat": 4
 },
 "nbformat": 4,
 "nbformat_minor": 2
}
